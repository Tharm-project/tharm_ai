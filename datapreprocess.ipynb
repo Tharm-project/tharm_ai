{
 "cells": [
  {
   "cell_type": "code",
   "execution_count": 1,
   "metadata": {},
   "outputs": [],
   "source": [
    "import os\n",
    "import yaml\n",
    "import numpy as np\n",
    "import pandas as pd\n",
    "import tensorflow as tf"
   ]
  },
  {
   "cell_type": "code",
   "execution_count": 2,
   "metadata": {},
   "outputs": [],
   "source": [
    "with open('./package.yaml') as f:\n",
    "    file = yaml.load(f, Loader=yaml.FullLoader)\n",
    "    POSEDATAPATH = file[\"path\"][\"pose_keypoints\"]\n",
    "    FACEDATAPATH = file[\"path\"][\"faceMesh_keypoints\"]\n",
    "    LABELPATH = file[\"path\"][\"labelPATH\"]"
   ]
  },
  {
   "cell_type": "code",
   "execution_count": 3,
   "metadata": {},
   "outputs": [],
   "source": [
    "label = pd.read_excel(LABELPATH)"
   ]
  },
  {
   "cell_type": "code",
   "execution_count": 4,
   "metadata": {},
   "outputs": [
    {
     "data": {
      "text/html": [
       "<div>\n",
       "<style scoped>\n",
       "    .dataframe tbody tr th:only-of-type {\n",
       "        vertical-align: middle;\n",
       "    }\n",
       "\n",
       "    .dataframe tbody tr th {\n",
       "        vertical-align: top;\n",
       "    }\n",
       "\n",
       "    .dataframe thead th {\n",
       "        text-align: right;\n",
       "    }\n",
       "</style>\n",
       "<table border=\"1\" class=\"dataframe\">\n",
       "  <thead>\n",
       "    <tr style=\"text-align: right;\">\n",
       "      <th></th>\n",
       "      <th>번호</th>\n",
       "      <th>파일명</th>\n",
       "      <th>한국어</th>\n",
       "    </tr>\n",
       "  </thead>\n",
       "  <tbody>\n",
       "    <tr>\n",
       "      <th>10460</th>\n",
       "      <td>1</td>\n",
       "      <td>KETI_SL_0000000001.MOV</td>\n",
       "      <td>0</td>\n",
       "    </tr>\n",
       "    <tr>\n",
       "      <th>10440</th>\n",
       "      <td>2</td>\n",
       "      <td>KETI_SL_0000000002.MOV</td>\n",
       "      <td>1</td>\n",
       "    </tr>\n",
       "    <tr>\n",
       "      <th>10420</th>\n",
       "      <td>3</td>\n",
       "      <td>KETI_SL_0000000003.MOV</td>\n",
       "      <td>2</td>\n",
       "    </tr>\n",
       "    <tr>\n",
       "      <th>10399</th>\n",
       "      <td>4</td>\n",
       "      <td>KETI_SL_0000000004.MOV</td>\n",
       "      <td>3</td>\n",
       "    </tr>\n",
       "    <tr>\n",
       "      <th>10379</th>\n",
       "      <td>5</td>\n",
       "      <td>KETI_SL_0000000005.MOV</td>\n",
       "      <td>4</td>\n",
       "    </tr>\n",
       "    <tr>\n",
       "      <th>...</th>\n",
       "      <td>...</td>\n",
       "      <td>...</td>\n",
       "      <td>...</td>\n",
       "    </tr>\n",
       "    <tr>\n",
       "      <th>804</th>\n",
       "      <td>1996</td>\n",
       "      <td>KETI_SL_0000001996.MOV</td>\n",
       "      <td>트랙터</td>\n",
       "    </tr>\n",
       "    <tr>\n",
       "      <th>784</th>\n",
       "      <td>1997</td>\n",
       "      <td>KETI_SL_0000001997.MOV</td>\n",
       "      <td>트럭</td>\n",
       "    </tr>\n",
       "    <tr>\n",
       "      <th>764</th>\n",
       "      <td>1998</td>\n",
       "      <td>KETI_SL_0000001998.MOV</td>\n",
       "      <td>파도</td>\n",
       "    </tr>\n",
       "    <tr>\n",
       "      <th>9703</th>\n",
       "      <td>1999</td>\n",
       "      <td>KETI_SL_0000001999.MOV</td>\n",
       "      <td>38</td>\n",
       "    </tr>\n",
       "    <tr>\n",
       "      <th>744</th>\n",
       "      <td>2000</td>\n",
       "      <td>KETI_SL_0000002000.MOV</td>\n",
       "      <td>파편</td>\n",
       "    </tr>\n",
       "  </tbody>\n",
       "</table>\n",
       "<p>2000 rows × 3 columns</p>\n",
       "</div>"
      ],
      "text/plain": [
       "         번호                     파일명  한국어\n",
       "10460     1  KETI_SL_0000000001.MOV    0\n",
       "10440     2  KETI_SL_0000000002.MOV    1\n",
       "10420     3  KETI_SL_0000000003.MOV    2\n",
       "10399     4  KETI_SL_0000000004.MOV    3\n",
       "10379     5  KETI_SL_0000000005.MOV    4\n",
       "...     ...                     ...  ...\n",
       "804    1996  KETI_SL_0000001996.MOV  트랙터\n",
       "784    1997  KETI_SL_0000001997.MOV   트럭\n",
       "764    1998  KETI_SL_0000001998.MOV   파도\n",
       "9703   1999  KETI_SL_0000001999.MOV   38\n",
       "744    2000  KETI_SL_0000002000.MOV   파편\n",
       "\n",
       "[2000 rows x 3 columns]"
      ]
     },
     "execution_count": 4,
     "metadata": {},
     "output_type": "execute_result"
    }
   ],
   "source": [
    "label = label[[\"번호\", \"파일명\", \"한국어\"]].sort_values(by=\"번호\", ascending=True).iloc[:2000]   # 컬럼 인덱싱 && 정렬 && 행 2000개 가져오기\n",
    "label"
   ]
  },
  {
   "cell_type": "code",
   "execution_count": 5,
   "metadata": {},
   "outputs": [],
   "source": [
    "pose_datapack = []\n",
    "face_datapack = []\n",
    "\n",
    "for file in os.listdir(POSEDATAPATH):   # Pose Keypoints - \"pose\" 컬럼 추가\n",
    "    r_path = os.path.join(POSEDATAPATH, file)\n",
    "    data = np.load(r_path)\n",
    "    pose_datapack.append(data)\n",
    "\n",
    "# for file in os.listdir(FACEDATAPATH):   # FaceMesh keypoints - \"face\" 컬럼 추가\n",
    "#     r_path = os.path.join(FACEDATAPATH, file)\n",
    "#     data = np.load(r_path)\n",
    "#     face_datapack.append(data)"
   ]
  },
  {
   "cell_type": "code",
   "execution_count": 6,
   "metadata": {},
   "outputs": [],
   "source": [
    "# label[\"pose\"] = pose_datapack\n",
    "# label[\"face\"] = face_datapack"
   ]
  },
  {
   "cell_type": "code",
   "execution_count": 7,
   "metadata": {},
   "outputs": [],
   "source": [
    "# label['한국어'].nunique()   # 총 레이블 수 - 419"
   ]
  },
  {
   "cell_type": "code",
   "execution_count": 35,
   "metadata": {},
   "outputs": [
    {
     "name": "stdout",
     "output_type": "stream",
     "text": [
      "Max Length : 210\n",
      "pose_array Shape : (2000, 210, 33, 3)\n"
     ]
    }
   ],
   "source": [
    "max_len = 0 # keypoints 최대 길이 변수\n",
    "\n",
    "for idx, data in label.iterrows():\n",
    "    keypoints_len = data['pose'].shape[0]  # example shape = (141, 33, 3)\n",
    "    if keypoints_len >= max_len:\n",
    "        max_len = keypoints_len\n",
    "\n",
    "print(f\"Max Length :\", max_len)\n",
    "\n",
    "padded_poses = []\n",
    "\n",
    "for idx, data in label.iterrows():  # keypoints padding\n",
    "    pose = data['pose']\n",
    "    keypoints_len = pose.shape[0]\n",
    "    \n",
    "    pad_width = max_len - keypoints_len  # 필요한 padding값 계산\n",
    "    \n",
    "    if pad_width > 0:\n",
    "        padding = ((0, pad_width), (0, 0), (0, 0))  \n",
    "        padded_pose = np.pad(pose, padding, mode='constant', constant_values=0) # zero padding\n",
    "    else:\n",
    "        padded_pose = pose\n",
    "    \n",
    "    padded_poses.append(padded_pose)\n",
    "pose_array = np.array(padded_poses)\n",
    "print(f\"pose_array Shape : {pose_array.shape}\")"
   ]
  },
  {
   "cell_type": "code",
   "execution_count": 30,
   "metadata": {},
   "outputs": [],
   "source": [
    "np.save('./pose_array.npy', pose_array)"
   ]
  }
 ],
 "metadata": {
  "kernelspec": {
   "display_name": "venv1",
   "language": "python",
   "name": "python3"
  },
  "language_info": {
   "codemirror_mode": {
    "name": "ipython",
    "version": 3
   },
   "file_extension": ".py",
   "mimetype": "text/x-python",
   "name": "python",
   "nbconvert_exporter": "python",
   "pygments_lexer": "ipython3",
   "version": "3.10.14"
  }
 },
 "nbformat": 4,
 "nbformat_minor": 2
}
