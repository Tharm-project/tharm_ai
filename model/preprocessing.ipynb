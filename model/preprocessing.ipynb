{
 "cells": [
  {
   "cell_type": "code",
   "execution_count": 2,
   "metadata": {},
   "outputs": [],
   "source": [
    "import os\n",
    "import cv2\n",
    "import ray\n",
    "import warnings\n",
    "import numpy as np \n",
    "import pandas as pd\n",
    "import mediapipe as mp\n",
    "\n",
    "from tqdm import tqdm\n",
    "warnings.filterwarnings('ignore')"
   ]
  },
  {
   "cell_type": "code",
   "execution_count": 3,
   "metadata": {},
   "outputs": [],
   "source": [
    "base_dir = \"C:/Users/NEULET/Desktop/dataset\"\n",
    "\n",
    "video_src = os.path.join(base_dir, \"source\")\n",
    "keypoints_src = os.path.join(base_dir, \"keypoints\")"
   ]
  },
  {
   "cell_type": "code",
   "execution_count": 4,
   "metadata": {},
   "outputs": [],
   "source": [
    "def get_max_length(keypoints_list):\n",
    "    max_length = 0  # val of max keypoints length / 키포인트 최대 길이값\n",
    "    for keypoints_data in keypoints_list:\n",
    "        current_length = keypoints_data.shape[0]    # keypoints length / 현재 keypoints의 길이값\n",
    "        if current_length > max_length:\n",
    "            max_length = current_length\n",
    "    print(f\"Max length : {max_length}\")    \n",
    "    return int(max_length)"
   ]
  },
  {
   "cell_type": "code",
   "execution_count": 6,
   "metadata": {},
   "outputs": [],
   "source": [
    "@ray.remote\n",
    "def extract_keypoints(video_path):\n",
    "    # mediapipe pose model init / mediapipe pose model 선언\n",
    "    mp_pose = mp.solutions.pose\n",
    "    pose_model = mp_pose.Pose(static_image_mode=True)\n",
    "    \n",
    "    filename = os.path.splitext(os.path.basename(video_path))[0]  # Extract filename\n",
    "    cap = cv2.VideoCapture(video_path)\n",
    "    pose_keypoints = []\n",
    "\n",
    "    while cap.isOpened():\n",
    "        ret, frame = cap.read()\n",
    "        if not ret:\n",
    "            break\n",
    "\n",
    "        results = pose_model.process(cv2.cvtColor(frame, cv2.COLOR_BGR2RGB))\n",
    "        if results.pose_landmarks:\n",
    "            keypoints = [[lm.x, lm.y, lm.z] for lm in results.pose_landmarks.landmark]\n",
    "            pose_keypoints.append(keypoints)\n",
    "\n",
    "    cap.release()\n",
    "    keypoints_array = np.array(pose_keypoints)\n",
    "    return filename, keypoints_array\n",
    "    \n",
    "def ray_extract_keypoints(video_src):\n",
    "    ray.init(num_cpus=6)  # initalize ray / ray 인스턴스 선언\n",
    "\n",
    "    video_paths = [os.path.join(video_src, video_file) for video_file in os.listdir(video_src)]\n",
    "    futures = [extract_keypoints.remote(video_path) for video_path in video_paths]\n",
    "    \n",
    "    results = [ray.get(f) for f in tqdm(futures)]\n",
    "    filename_list, pose_keypoints_list = zip(*results)\n",
    "\n",
    "    match_df = pd.DataFrame({\n",
    "        'filename': filename_list,\n",
    "        'pose_keypoints': pose_keypoints_list\n",
    "    })\n",
    "    \n",
    "    ray.shutdown()\n",
    "    return match_df"
   ]
  },
  {
   "cell_type": "code",
   "execution_count": null,
   "metadata": {},
   "outputs": [
    {
     "name": "stderr",
     "output_type": "stream",
     "text": [
      "\u001b[36m(extract_keypoints pid=17672)\u001b[0m W0000 00:00:1731372306.859650   45184 inference_feedback_manager.cc:114] Feedback manager requires a model with a single signature inference. Disabling support for feedback tensors.\u001b[32m [repeated 10x across cluster]\u001b[0m\n"
     ]
    }
   ],
   "source": [
    "match_df = ray_extract_keypoints(video_src)\n",
    "max_length = get_max_length(match_df['pose_keypoints'])\n",
    "\n",
    "for i, keypoints_data in enumerate(tqdm(match_df['pose_keypoints'])):\n",
    "    filename = match_df['filename'][i]  # corrected indexing / 인덱싱 수정\n",
    "    current_length = keypoints_data.shape[0]\n",
    "\n",
    "    if max_length > current_length:\n",
    "        padding = np.zeros((max_length - current_length, 33, 3))\n",
    "        padded_keypoints = np.vstack((keypoints_data, padding))\n",
    "    else:\n",
    "        padded_keypoints = keypoints_data\n",
    "\n",
    "    np.save(keypoints_src + f\"/{filename}_padded.npy\", padded_keypoints)\n",
    "    print(f\"{filename} - {padded_keypoints.shape}\")"
   ]
  },
  {
   "cell_type": "code",
   "execution_count": null,
   "metadata": {},
   "outputs": [],
   "source": []
  }
 ],
 "metadata": {
  "kernelspec": {
   "display_name": "venv1",
   "language": "python",
   "name": "python3"
  },
  "language_info": {
   "codemirror_mode": {
    "name": "ipython",
    "version": 3
   },
   "file_extension": ".py",
   "mimetype": "text/x-python",
   "name": "python",
   "nbconvert_exporter": "python",
   "pygments_lexer": "ipython3",
   "version": "3.10.14"
  }
 },
 "nbformat": 4,
 "nbformat_minor": 2
}
