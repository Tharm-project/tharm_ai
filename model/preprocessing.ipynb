{
 "cells": [
  {
   "cell_type": "code",
   "execution_count": 180,
   "metadata": {},
   "outputs": [],
   "source": [
    "import os\n",
    "import cv2\n",
    "import warnings\n",
    "import numpy as np \n",
    "import mediapipe as mp\n",
    "\n",
    "from tqdm import tqdm\n",
    "warnings.filterwarnings('ignore')"
   ]
  },
  {
   "cell_type": "code",
   "execution_count": null,
   "metadata": {},
   "outputs": [],
   "source": [
    "base_dir = \"D:/sl_dataset/\"\n",
    "\n",
    "video_src = os.path.join(base_dir, \"source\")\n",
    "keypoints_src = os.path.join(base_dir, \"keypoints\")\n",
    "\n",
    "# mediapipe pose model init / mediapipe pose model 선언\n",
    "mp_pose = mp.solutions.pose\n",
    "pose_model = mp_pose.Pose(static_image_mode=True)   "
   ]
  },
  {
   "cell_type": "code",
   "execution_count": null,
   "metadata": {},
   "outputs": [],
   "source": [
    "max_length = 0  # val of max keypoints length / 키포인트 최대 길이값\n",
    "\n",
    "for video_file in tqdm(os.listdir(video_src)):\n",
    "    video_path = os.path.join(video_src, video_file)    # generate file path / 파일 경로 생성\n",
    "    filename = os.path.splitext(video_file)[0]  # filename remove extension / 파일 이름(확장자 제거)\n",
    "    cap = cv2.VideoCapture(video_path)  # video load / 영상 읽어오기\n",
    "    pose_keypoints = [] # list of pose keypoints / pose 키포인트를 저장할 리스트\n",
    "\n",
    "    while cap.isOpened():  \n",
    "        ret, frame = cap.read() # opened, frame read from video / 읽기 여부 프레임 읽기\n",
    "        if not ret:\n",
    "            break\n",
    "        \n",
    "        results = pose_model.process(cv2.cvtColor(frame, cv2.COLOR_BGR2RGB))    # pose process / pose 키포인트 추출 프로세스\n",
    "        if results.pose_landmarks:\n",
    "            keypoints = [[lm.x, lm.y, lm.z] for lm in results.pose_landmarks.landmark]  # x, y, z\n",
    "            pose_keypoints.append(keypoints)\n",
    "    cap.release()\n",
    "    \n",
    "    keypoints_array = np.array(pose_keypoints)  # list to npy / 리스트 => numpy ndarray 변환\n",
    "    np.save(keypoints_src + f\"/{filename}_pose.npy\", keypoints_array)   # keypoints save / 키포인트 저장(.npy)"
   ]
  }
 ],
 "metadata": {
  "kernelspec": {
   "display_name": "venv1",
   "language": "python",
   "name": "python3"
  },
  "language_info": {
   "codemirror_mode": {
    "name": "ipython",
    "version": 3
   },
   "file_extension": ".py",
   "mimetype": "text/x-python",
   "name": "python",
   "nbconvert_exporter": "python",
   "pygments_lexer": "ipython3",
   "version": "3.10.14"
  }
 },
 "nbformat": 4,
 "nbformat_minor": 2
}
