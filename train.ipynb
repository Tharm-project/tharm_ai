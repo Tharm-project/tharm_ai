{
 "cells": [
  {
   "cell_type": "code",
   "execution_count": 1,
   "metadata": {},
   "outputs": [],
   "source": [
    "import numpy as np\n",
    "import tensorflow as tf\n",
    "import pandas as pd\n",
    "\n",
    "from tensorflow.keras.utils import to_categorical\n",
    "from sklearn.preprocessing import LabelEncoder\n",
    "from sklearn.model_selection import train_test_split"
   ]
  },
  {
   "cell_type": "code",
   "execution_count": 13,
   "metadata": {},
   "outputs": [],
   "source": [
    "metadata = pd.read_csv('./metadata.csv')"
   ]
  },
  {
   "cell_type": "code",
   "execution_count": 14,
   "metadata": {},
   "outputs": [
    {
     "name": "stdout",
     "output_type": "stream",
     "text": [
      "Total class : 419\n"
     ]
    }
   ],
   "source": [
    "str_kor = []\n",
    "\n",
    "for idx, data in metadata.iterrows():\n",
    "    str_data = str(data['한국어'])  # 한국어 컬럼 데이터 String 변환\n",
    "    str_kor.append(str_data)\n",
    "\n",
    "print(f\"Total class : {metadata['한국어'].nunique()}\")"
   ]
  },
  {
   "cell_type": "code",
   "execution_count": 20,
   "metadata": {},
   "outputs": [
    {
     "name": "stdout",
     "output_type": "stream",
     "text": [
      "Encoded_label : [[1. 0. 0. ... 0. 0. 0.]\n",
      " [0. 1. 0. ... 0. 0. 0.]\n",
      " [0. 0. 0. ... 0. 0. 0.]\n",
      " ...\n",
      " [0. 0. 0. ... 0. 0. 0.]\n",
      " [0. 0. 0. ... 0. 0. 0.]\n",
      " [0. 0. 0. ... 0. 0. 0.]]\n",
      "Shape : (2000, 419)\n"
     ]
    }
   ],
   "source": [
    "label_encoder = LabelEncoder()  # 정수 인코딩 - LabelEncoder 선언\n",
    "encoded_label = label_encoder.fit_transform(str_kor)    # 정수 인코딩\n",
    "\n",
    "processed_label = to_categorical(encoded_label, num_classes=419)    # categorical transform\n",
    "print(f\"Encoded_label : {processed_label}\")\n",
    "print(F\"Shape : {processed_label.shape}\")"
   ]
  },
  {
   "cell_type": "code",
   "execution_count": 21,
   "metadata": {},
   "outputs": [
    {
     "name": "stdout",
     "output_type": "stream",
     "text": [
      "Shape : (2000, 210, 33, 3)\n"
     ]
    }
   ],
   "source": [
    "keypoints_data = np.load('./pose_array.npy')\n",
    "print(f\"Shape : {keypoints_data.shape}\")"
   ]
  },
  {
   "cell_type": "code",
   "execution_count": 22,
   "metadata": {},
   "outputs": [
    {
     "name": "stderr",
     "output_type": "stream",
     "text": [
      "c:\\Users\\NEULET\\anaconda3\\envs\\venv1\\lib\\site-packages\\keras\\src\\layers\\core\\embedding.py:90: UserWarning: Argument `input_length` is deprecated. Just remove it.\n",
      "  warnings.warn(\n",
      "c:\\Users\\NEULET\\anaconda3\\envs\\venv1\\lib\\site-packages\\keras\\src\\layers\\layer.py:372: UserWarning: `build()` was called on layer 'embedding_dnn_model_1', however the layer does not have a `build()` method implemented and it looks like it has unbuilt state. This will cause the layer to be marked as built, despite not being actually built, which may cause failures down the line. Make sure to implement a proper `build()` method.\n",
      "  warnings.warn(\n"
     ]
    }
   ],
   "source": [
    "class embedding_dnn_model(tf.keras.Model):\n",
    "    def __init__(self):\n",
    "        super(embedding_dnn_model, self).__init__()\n",
    "        self.embedding = tf.keras.layers.Embedding(input_dim=527, output_dim=512, input_length=1)\n",
    "        self.flatten = tf.keras.layers.Flatten()\n",
    "        self.dense1 = tf.keras.layers.Dense(1024, activation='relu')\n",
    "        self.dense2 = tf.keras.layers.Dense(2048, activation='relu')\n",
    "        self.dense3 = tf.keras.layers.Dense(4096, activation='relu')\n",
    "        self.output_dense = tf.keras.layers.Dense(210 * 33 * 3, activation='linear')\n",
    "        self.reshape = tf.keras.layers.Reshape((210, 33, 3))\n",
    "\n",
    "    def call(self, inputs):\n",
    "        x = self.embedding(inputs)\n",
    "        x = self.flatten(x)\n",
    "        x = self.dense1(x)\n",
    "        x = self.dense2(x)\n",
    "        x = self.dense3(x)\n",
    "        x = self.output_dense(x)\n",
    "        return self.reshape(x)\n",
    "\n",
    "model = embedding_dnn_model()\n",
    "model.compile(\n",
    "    optimizer='adam', \n",
    "    loss='mean_squared_error',\n",
    "    metrics=['mse']\n",
    ")\n",
    "\n",
    "model.build(input_shape=(None, 1)) # model input shape 지정"
   ]
  },
  {
   "cell_type": "code",
   "execution_count": 10,
   "metadata": {},
   "outputs": [
    {
     "name": "stdout",
     "output_type": "stream",
     "text": [
      "Epoch 1/10\n",
      "\u001b[1m13/13\u001b[0m \u001b[32m━━━━━━━━━━━━━━━━━━━━\u001b[0m\u001b[37m\u001b[0m \u001b[1m16s\u001b[0m 942ms/step - loss: 1.0927 - mse: 1.0927 - val_loss: 0.1617 - val_mse: 0.1617\n",
      "Epoch 2/10\n",
      "\u001b[1m13/13\u001b[0m \u001b[32m━━━━━━━━━━━━━━━━━━━━\u001b[0m\u001b[37m\u001b[0m \u001b[1m12s\u001b[0m 923ms/step - loss: 0.1664 - mse: 0.1664 - val_loss: 0.0863 - val_mse: 0.0863\n",
      "Epoch 3/10\n",
      "\u001b[1m13/13\u001b[0m \u001b[32m━━━━━━━━━━━━━━━━━━━━\u001b[0m\u001b[37m\u001b[0m \u001b[1m12s\u001b[0m 894ms/step - loss: 0.0795 - mse: 0.0795 - val_loss: 0.0761 - val_mse: 0.0761\n",
      "Epoch 4/10\n",
      "\u001b[1m13/13\u001b[0m \u001b[32m━━━━━━━━━━━━━━━━━━━━\u001b[0m\u001b[37m\u001b[0m \u001b[1m12s\u001b[0m 893ms/step - loss: 0.0642 - mse: 0.0642 - val_loss: 0.0561 - val_mse: 0.0561\n",
      "Epoch 5/10\n",
      "\u001b[1m13/13\u001b[0m \u001b[32m━━━━━━━━━━━━━━━━━━━━\u001b[0m\u001b[37m\u001b[0m \u001b[1m12s\u001b[0m 888ms/step - loss: 0.0583 - mse: 0.0583 - val_loss: 0.0650 - val_mse: 0.0650\n",
      "Epoch 6/10\n",
      "\u001b[1m13/13\u001b[0m \u001b[32m━━━━━━━━━━━━━━━━━━━━\u001b[0m\u001b[37m\u001b[0m \u001b[1m12s\u001b[0m 889ms/step - loss: 0.0577 - mse: 0.0577 - val_loss: 0.0556 - val_mse: 0.0556\n",
      "Epoch 7/10\n",
      "\u001b[1m13/13\u001b[0m \u001b[32m━━━━━━━━━━━━━━━━━━━━\u001b[0m\u001b[37m\u001b[0m \u001b[1m12s\u001b[0m 892ms/step - loss: 0.0586 - mse: 0.0586 - val_loss: 0.0552 - val_mse: 0.0552\n",
      "Epoch 8/10\n",
      "\u001b[1m13/13\u001b[0m \u001b[32m━━━━━━━━━━━━━━━━━━━━\u001b[0m\u001b[37m\u001b[0m \u001b[1m12s\u001b[0m 888ms/step - loss: 0.0587 - mse: 0.0587 - val_loss: 0.0538 - val_mse: 0.0538\n",
      "Epoch 9/10\n",
      "\u001b[1m13/13\u001b[0m \u001b[32m━━━━━━━━━━━━━━━━━━━━\u001b[0m\u001b[37m\u001b[0m \u001b[1m12s\u001b[0m 898ms/step - loss: 0.0570 - mse: 0.0570 - val_loss: 0.0592 - val_mse: 0.0592\n",
      "Epoch 10/10\n",
      "\u001b[1m13/13\u001b[0m \u001b[32m━━━━━━━━━━━━━━━━━━━━\u001b[0m\u001b[37m\u001b[0m \u001b[1m12s\u001b[0m 888ms/step - loss: 0.0563 - mse: 0.0563 - val_loss: 0.0563 - val_mse: 0.0563\n"
     ]
    }
   ],
   "source": [
    "history = model.fit(processed_label, keypoints_data, epochs=10, batch_size=128, validation_split=0.2)"
   ]
  },
  {
   "cell_type": "code",
   "execution_count": 35,
   "metadata": {},
   "outputs": [
    {
     "name": "stdout",
     "output_type": "stream",
     "text": [
      "\u001b[1m1/1\u001b[0m \u001b[32m━━━━━━━━━━━━━━━━━━━━\u001b[0m\u001b[37m\u001b[0m \u001b[1m0s\u001b[0m 17ms/step\n",
      "Predicted_shape: (1, 210, 33, 3)\n"
     ]
    }
   ],
   "source": [
    "input_string = [\"바다\"]\n",
    "encoded_string = label_encoder.transform(input_string)\n",
    "array = np.array(encoded_string).reshape(-1, 1)\n",
    "\n",
    "predicted = model.predict(array)\n",
    "\n",
    "print(f\"Predicted_shape: {predicted.shape}\")"
   ]
  },
  {
   "cell_type": "code",
   "execution_count": null,
   "metadata": {},
   "outputs": [],
   "source": []
  }
 ],
 "metadata": {
  "kernelspec": {
   "display_name": "venv1",
   "language": "python",
   "name": "python3"
  },
  "language_info": {
   "codemirror_mode": {
    "name": "ipython",
    "version": 3
   },
   "file_extension": ".py",
   "mimetype": "text/x-python",
   "name": "python",
   "nbconvert_exporter": "python",
   "pygments_lexer": "ipython3",
   "version": "3.10.14"
  }
 },
 "nbformat": 4,
 "nbformat_minor": 2
}
